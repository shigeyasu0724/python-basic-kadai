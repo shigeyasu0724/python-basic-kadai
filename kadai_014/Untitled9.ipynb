{
  "nbformat": 4,
  "nbformat_minor": 0,
  "metadata": {
    "colab": {
      "provenance": []
    },
    "kernelspec": {
      "name": "python3",
      "display_name": "Python 3"
    },
    "language_info": {
      "name": "python"
    }
  },
  "cells": [
    {
      "cell_type": "code",
      "execution_count": 6,
      "metadata": {
        "colab": {
          "base_uri": "https://localhost:8080/"
        },
        "id": "ndHMW-pnO6Sh",
        "outputId": "72db44b2-4914-4121-d9d7-19d7b19f605e"
      },
      "outputs": [
        {
          "output_type": "stream",
          "name": "stdout",
          "text": [
            "330.0\n"
          ]
        }
      ],
      "source": [
        "price1 = 100  # 変数price1に100を代入（商品の価格1）\n",
        "price2 = 200  # 変数price2に200を代入（商品の価格2）\n",
        "\n",
        "tax = 1.1  # 消費税率10%（1.1倍）  <- tax を関数の外で定義\n",
        "\n",
        "def total():\n",
        "    return price1 + price2  # 商品の合計金額（税抜き）を返す\n",
        "\n",
        "print(total() * tax)  # 合計金額（税抜き）に消費税をかけて表示"
      ]
    },
    {
      "cell_type": "code",
      "source": [],
      "metadata": {
        "id": "Oz3tY4qMO8Nx"
      },
      "execution_count": null,
      "outputs": []
    }
  ]
}