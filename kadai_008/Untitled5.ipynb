{
  "nbformat": 4,
  "nbformat_minor": 0,
  "metadata": {
    "colab": {
      "provenance": []
    },
    "kernelspec": {
      "name": "python3",
      "display_name": "Python 3"
    },
    "language_info": {
      "name": "python"
    }
  },
  "cells": [
    {
      "cell_type": "code",
      "execution_count": 12,
      "metadata": {
        "colab": {
          "base_uri": "https://localhost:8080/"
        },
        "id": "erXh0QXF1ZhY",
        "outputId": "22730a57-1099-4f80-f29a-31afb7dd55ec"
      },
      "outputs": [
        {
          "output_type": "stream",
          "name": "stdout",
          "text": [
            "FizzBuzz\n"
          ]
        }
      ],
      "source": [
        "var = 30\n",
        "if var % 3 == 0 and var % 5 == 0:\n",
        "  print(\"FizzBuzz\")\n",
        "elif var % 5 ==0:\n",
        "  print(\"Buzz\")\n",
        "elif var % 3 == 0:\n",
        "  print(\"Fizz\")\n",
        "else:\n",
        "  print(var)\n"
      ]
    },
    {
      "cell_type": "code",
      "source": [],
      "metadata": {
        "id": "kJEESwPw2ZKf"
      },
      "execution_count": null,
      "outputs": []
    }
  ]
}