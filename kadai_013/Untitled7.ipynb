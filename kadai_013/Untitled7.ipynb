{
  "nbformat": 4,
  "nbformat_minor": 0,
  "metadata": {
    "colab": {
      "provenance": []
    },
    "kernelspec": {
      "name": "python3",
      "display_name": "Python 3"
    },
    "language_info": {
      "name": "python"
    }
  },
  "cells": [
    {
      "cell_type": "code",
      "execution_count": 4,
      "metadata": {
        "colab": {
          "base_uri": "https://localhost:8080/"
        },
        "id": "xVe5cWRMdP2O",
        "outputId": "f3fe0462-2919-431b-fb10-aed88cc9cbe4"
      },
      "outputs": [
        {
          "output_type": "stream",
          "name": "stdout",
          "text": [
            "121.00000000000001円\n"
          ]
        }
      ],
      "source": [
        "def product_total(price):\n",
        "  total = price * 1.1\n",
        "  print(f\"{total}円\")\n",
        "\n",
        "product_total(110)\n"
      ]
    },
    {
      "cell_type": "code",
      "source": [],
      "metadata": {
        "id": "vWUQERWFeMFy"
      },
      "execution_count": null,
      "outputs": []
    }
  ]
}