{
  "nbformat": 4,
  "nbformat_minor": 0,
  "metadata": {
    "colab": {
      "provenance": []
    },
    "kernelspec": {
      "name": "python3",
      "display_name": "Python 3"
    },
    "language_info": {
      "name": "python"
    }
  },
  "cells": [
    {
      "cell_type": "code",
      "execution_count": 10,
      "metadata": {
        "colab": {
          "base_uri": "https://localhost:8080/",
          "height": 109
        },
        "id": "xVe5cWRMdP2O",
        "outputId": "b2e16e34-0fc3-4206-8f3a-83ca5a8a8afc"
      },
      "outputs": [
        {
          "output_type": "error",
          "ename": "SyntaxError",
          "evalue": "invalid syntax (<ipython-input-10-8ce3fabddcc5>, line 3)",
          "traceback": [
            "\u001b[0;36m  File \u001b[0;32m\"<ipython-input-10-8ce3fabddcc5>\"\u001b[0;36m, line \u001b[0;32m3\u001b[0m\n\u001b[0;31m    Args:\u001b[0m\n\u001b[0m         ^\u001b[0m\n\u001b[0;31mSyntaxError\u001b[0m\u001b[0;31m:\u001b[0m invalid syntax\n"
          ]
        }
      ],
      "source": [
        "def product_total(price , tax_rate):\n",
        "  \"\"\"\n",
        "  Args:\n",
        "    price (int):\n",
        "    tax_rate (float)\n",
        "\n",
        "  Returns:\n",
        "    float:\n",
        "  \"\"\"\n",
        "  total = price * (1 + tax_rate)\n",
        "  return total\n",
        "\n",
        "price = 110\n",
        "tax_rate = 0.1\n",
        "total_price = product_total(price, tax_rate)\n",
        "print(f\"{total_price}円\")\n"
      ]
    },
    {
      "cell_type": "code",
      "source": [],
      "metadata": {
        "id": "vWUQERWFeMFy"
      },
      "execution_count": null,
      "outputs": []
    }
  ]
}