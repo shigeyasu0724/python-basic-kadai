{
  "nbformat": 4,
  "nbformat_minor": 0,
  "metadata": {
    "colab": {
      "provenance": []
    },
    "kernelspec": {
      "name": "python3",
      "display_name": "Python 3"
    },
    "language_info": {
      "name": "python"
    }
  },
  "cells": [
    {
      "cell_type": "code",
      "execution_count": 11,
      "metadata": {
        "colab": {
          "base_uri": "https://localhost:8080/"
        },
        "id": "amdMyo_Mc2VG",
        "outputId": "3aaf49c4-7c36-4a97-9d25-1217a722946e"
      },
      "outputs": [
        {
          "output_type": "stream",
          "name": "stdout",
          "text": [
            "侍太郎\n",
            "33\n",
            "大人\n",
            "侍二郎\n",
            "44\n",
            "大人\n",
            "侍三郎\n",
            "11\n",
            "大人ではない\n"
          ]
        }
      ],
      "source": [
        "class Human:\n",
        "  def __init__(self, name, age):\n",
        "    self.name = name\n",
        "    self.age = int(age)\n",
        "\n",
        "  def check_adult(self):\n",
        "      print(self.name)\n",
        "      print(self.age)\n",
        "      if self.age >= 20:\n",
        "        print(\"大人\")\n",
        "      else:\n",
        "        print(\"大人ではない\")\n",
        "\n",
        "humans = [Human(\"侍太郎\", \"33\"), Human(\"侍二郎\", \"44\"), Human(\"侍三郎\", \"11\")]\n",
        "\n",
        "for human in humans:\n",
        "    human.check_adult()"
      ]
    },
    {
      "cell_type": "code",
      "source": [],
      "metadata": {
        "id": "llKaBo9kd8Om"
      },
      "execution_count": null,
      "outputs": []
    }
  ]
}