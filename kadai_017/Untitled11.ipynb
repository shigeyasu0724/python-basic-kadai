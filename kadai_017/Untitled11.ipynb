{
  "nbformat": 4,
  "nbformat_minor": 0,
  "metadata": {
    "colab": {
      "provenance": []
    },
    "kernelspec": {
      "name": "python3",
      "display_name": "Python 3"
    },
    "language_info": {
      "name": "python"
    }
  },
  "cells": [
    {
      "cell_type": "code",
      "execution_count": 9,
      "metadata": {
        "colab": {
          "base_uri": "https://localhost:8080/"
        },
        "id": "amdMyo_Mc2VG",
        "outputId": "d4ac3bf6-b993-455e-b62e-5049f9dc47a1"
      },
      "outputs": [
        {
          "output_type": "stream",
          "name": "stdout",
          "text": [
            "侍太郎\n",
            "33\n",
            "侍二郎\n",
            "44\n"
          ]
        }
      ],
      "source": [
        "class Human:\n",
        "  def __init__(self, name, age):\n",
        "    self.name = name\n",
        "    self.age = int(age)\n",
        "\n",
        "  def check_adult(self):\n",
        "      print(self.name)\n",
        "      print(self.age)\n",
        "\n",
        "humans = [Human(\"侍太郎\", \"33\"), Human(\"侍二郎\", \"44\"), Human(\"侍三郎\", \"11\")]\n",
        "\n",
        "for human in humans:\n",
        "  if human.age > 20:\n",
        "    human.check_adult()"
      ]
    },
    {
      "cell_type": "code",
      "source": [],
      "metadata": {
        "id": "llKaBo9kd8Om"
      },
      "execution_count": null,
      "outputs": []
    }
  ]
}